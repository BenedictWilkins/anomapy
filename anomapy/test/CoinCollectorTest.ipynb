{
 "cells": [
  {
   "cell_type": "code",
   "execution_count": 3,
   "metadata": {},
   "outputs": [
    {
     "name": "stdout",
     "output_type": "stream",
     "text": [
      "['ObjectMover-v0', 'ObjectMover-v1', 'CoinCollector-NoJump-v0', 'CoinCollector-Easy-v0', 'CoinCollector-NoSpeed-v0', 'CoinCollector-Hard-v0']\n",
      "Discrete(9)\n",
      "(100, 128, 128, 3) uint8\n"
     ]
    }
   ],
   "source": [
    "\n",
    "\n",
    "import gym\n",
    "import pyworld.environments as envs\n",
    "import pyworld.toolkit.tools.gymutils as gu\n",
    "\n",
    "import pyworld.toolkit.tools.visutils.jupyter as J\n",
    "import pyworld.toolkit.tools.visutils.transform as T\n",
    "\n",
    "print(envs.environments())\n",
    "\n",
    "env = gym.make('CoinCollector-NoSpeed-v0')\n",
    "print(env.action_space)\n",
    "\n",
    "\n",
    "\n",
    "episode = gu.episode(env, max_episode_size=100).state\n",
    "print(episode.shape, episode.dtype)\n",
    "\n",
    "#J.images(episode)\n",
    "\n",
    "\n",
    "\n",
    "\n",
    "\n",
    "\n",
    "\n",
    "\n",
    "\n",
    "\n"
   ]
  },
  {
   "cell_type": "code",
   "execution_count": null,
   "metadata": {},
   "outputs": [],
   "source": []
  }
 ],
 "metadata": {
  "kernelspec": {
   "display_name": "Python 3.8.1 64-bit ('PhD': conda)",
   "language": "python",
   "name": "python38164bitphdconda4a8805f6f8044089a89ef6c6f106aeb7"
  },
  "language_info": {
   "codemirror_mode": {
    "name": "ipython",
    "version": 3
   },
   "file_extension": ".py",
   "mimetype": "text/x-python",
   "name": "python",
   "nbconvert_exporter": "python",
   "pygments_lexer": "ipython3",
   "version": "3.8.1"
  }
 },
 "nbformat": 4,
 "nbformat_minor": 4
}
