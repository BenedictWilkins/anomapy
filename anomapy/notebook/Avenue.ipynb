{
 "cells": [
  {
   "cell_type": "code",
   "execution_count": 1,
   "metadata": {
    "scrolled": true
   },
   "outputs": [
    {
     "name": "stdout",
     "output_type": "stream",
     "text": [
      "USING DEVICE: cuda\n"
     ]
    }
   ],
   "source": [
    "import sys\n",
    "import torch\n",
    "from pprint import pprint\n",
    "\n",
    "\n",
    "import pyworld.toolkit.tools.torchutils as tu\n",
    "import pyworld.toolkit.tools.visutils as vu\n",
    "import pyworld.toolkit.tools.visutils.transform as T\n",
    "import pyworld.toolkit.tools.visutils.jupyter as J\n",
    "\n",
    "import datasets\n",
    "import anomapy.train.sssn as sssn\n",
    "\n",
    "\n",
    "from anomapy.evaluate import evaluate\n",
    "from anomapy import load\n",
    "\n",
    "def transform(episode, scale=0.25):\n",
    "    episode = T.to_float(episode)\n",
    "    episode = T.scale_all(episode, scale)\n",
    "    episode = T.CHW(episode)\n",
    "    episode = torch.from_numpy(episode)\n",
    "    return episode\n",
    "    \n",
    "datasets.VERBOSE = False\n",
    "env = \"avenue\"\n",
    "train = True\n",
    "scale = 0.25\n",
    "model = None\n"
   ]
  },
  {
   "cell_type": "code",
   "execution_count": 3,
   "metadata": {
    "scrolled": true
   },
   "outputs": [
    {
     "name": "stdout",
     "output_type": "stream",
     "text": [
      "loading dataset avenue...\n"
     ]
    },
    {
     "data": {
      "application/vnd.jupyter.widget-view+json": {
       "model_id": "27a80a2a0af04549b8737bc2d853f931",
       "version_major": 2,
       "version_minor": 0
      },
      "text/plain": [
       "IntProgress(value=0, max=16)"
      ]
     },
     "metadata": {},
     "output_type": "display_data"
    }
   ],
   "source": [
    "episodes = [transform(episode) for episode in datasets.dataset(env).load()]"
   ]
  },
  {
   "cell_type": "code",
   "execution_count": null,
   "metadata": {
    "scrolled": true
   },
   "outputs": [],
   "source": [
    "kwargs = sssn.default_config(env, episodes[0].shape[1:], scale=scale)\n",
    "model = sssn.run(episodes, **kwargs)"
   ]
  },
  {
   "cell_type": "code",
   "execution_count": 4,
   "metadata": {
    "scrolled": false
   },
   "outputs": [
    {
     "name": "stdout",
     "output_type": "stream",
     "text": [
      "-- local data found at /home/ben/Documents/repos/anomapy/runs/sssn-avenue-20200218190251, skipping download.\n",
      "-- loading model...\n",
      "-- found config:\n"
     ]
    },
    {
     "data": {
      "application/vnd.jupyter.widget-view+json": {
       "model_id": "c3999355a3694ac2a3b4be5320193542",
       "version_major": 2,
       "version_minor": 0
      },
      "text/plain": [
       "VBox(children=(FigureWidget({\n",
       "    'data': [{'mode': 'markers+lines',\n",
       "              'type': 'scattergl',\n",
       "      …"
      ]
     },
     "metadata": {},
     "output_type": "display_data"
    }
   ],
   "source": [
    "if model is None:\n",
    "    RUN = \"sssn-avenue-20200218190251\" #change me to load a specific model!\n",
    "    model, kwargs = evaluate.initialise(run=RUN) #load it from the run...\n",
    "\n",
    "ep_all = torch.cat(episodes[:5])\n",
    "z_n = tu.to_numpy(tu.collect(model, ep_all))\n",
    "\n",
    "x = z_n[:,0]\n",
    "y = z_n[:,1]\n",
    "images =  T.HWC(tu.to_numpy(ep_all))\n",
    "\n",
    "J.scatter_image(x,y,images,scale=4)\n"
   ]
  },
  {
   "cell_type": "code",
   "execution_count": 4,
   "metadata": {},
   "outputs": [
    {
     "name": "stdout",
     "output_type": "stream",
     "text": [
      "loading dataset avenue...\n"
     ]
    },
    {
     "data": {
      "application/vnd.jupyter.widget-view+json": {
       "model_id": "cfa94b887e59447fa2fa78b2d785d68d",
       "version_major": 2,
       "version_minor": 0
      },
      "text/plain": [
       "IntProgress(value=0, max=16)"
      ]
     },
     "metadata": {},
     "output_type": "display_data"
    },
    {
     "name": "stdout",
     "output_type": "stream",
     "text": [
      "(1364, 360, 640, 3)\n",
      "(1364, 90, 160, 3)\n"
     ]
    },
    {
     "data": {
      "application/vnd.jupyter.widget-view+json": {
       "model_id": "d070e52a4d4a4778acbf7f5e19527e03",
       "version_major": 2,
       "version_minor": 0
      },
      "text/plain": [
       "interactive(children=(IntSlider(value=0, description='x', max=1363), Output()), _dom_classes=('widget-interact…"
      ]
     },
     "metadata": {},
     "output_type": "display_data"
    },
    {
     "data": {
      "application/vnd.jupyter.widget-view+json": {
       "model_id": "7e3cef4b679447bbbe6f6214220efd38",
       "version_major": 2,
       "version_minor": 0
      },
      "text/plain": [
       "Image(value=b'\\x89PNG\\r\\n\\x1a\\n\\x00\\x00\\x00\\rIHDR\\x00\\x00\\x00\\xa0\\x00\\x00\\x00Z\\x08\\x02\\x00\\x00\\x00\\xb0\\xa4\\xca…"
      ]
     },
     "metadata": {},
     "output_type": "display_data"
    }
   ],
   "source": [
    "episode = T.to_float(next(datasets.load_all(env)))\n",
    "print(episode.shape)\n",
    "episode = T.scale_all(episode, 0.25)\n",
    "print(episode.shape)\n",
    "vu.jupyter.images(episode)"
   ]
  },
  {
   "cell_type": "code",
   "execution_count": null,
   "metadata": {},
   "outputs": [],
   "source": []
  },
  {
   "cell_type": "code",
   "execution_count": null,
   "metadata": {},
   "outputs": [],
   "source": []
  }
 ],
 "metadata": {
  "kernelspec": {
   "display_name": "Python 3.8.1 64-bit ('PhD': conda)",
   "language": "python",
   "name": "python38164bitphdconda4a8805f6f8044089a89ef6c6f106aeb7"
  },
  "language_info": {
   "codemirror_mode": {
    "name": "ipython",
    "version": 3
   },
   "file_extension": ".py",
   "mimetype": "text/x-python",
   "name": "python",
   "nbconvert_exporter": "python",
   "pygments_lexer": "ipython3",
   "version": "3.8.1"
  }
 },
 "nbformat": 4,
 "nbformat_minor": 4
}
