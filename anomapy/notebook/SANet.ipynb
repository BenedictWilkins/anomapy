{
 "cells": [
  {
   "cell_type": "code",
   "execution_count": 1,
   "metadata": {
    "scrolled": true
   },
   "outputs": [
    {
     "name": "stdout",
     "output_type": "stream",
     "text": [
      "USING DEVICE: cuda\n"
     ]
    }
   ],
   "source": [
    "import torch\n",
    "import numpy as np\n",
    "\n",
    "import pyworld.toolkit.tools.torchutils as tu\n",
    "import pyworld.toolkit.tools.visutils as vu\n",
    "import pyworld.toolkit.tools.datautils as du\n",
    "import pyworld.toolkit.tools.visutils.transform as T\n",
    "import pyworld.toolkit.tools.visutils.jupyter as J\n",
    "\n",
    "from pyworld.toolkit.nn.SANet import SANet2\n",
    "from pyworld.algorithms.optimise.TripletOptimiser import PairTripletOptimiser\n",
    "\n",
    "from anomapy import load\n",
    "\n",
    "import datasets\n",
    "\n",
    "env = \"Breakout\"\n",
    "device = tu.device()"
   ]
  },
  {
   "cell_type": "code",
   "execution_count": 2,
   "metadata": {
    "scrolled": false
   },
   "outputs": [
    {
     "name": "stdout",
     "output_type": "stream",
     "text": [
      "loading dataset aad.clean...\n"
     ]
    },
    {
     "data": {
      "application/vnd.jupyter.widget-view+json": {
       "model_id": "81973450ff9147c89fa4b95c9b5caf61",
       "version_major": 2,
       "version_minor": 0
      },
      "text/plain": [
       "IntProgress(value=0, max=1)"
      ]
     },
     "metadata": {},
     "output_type": "display_data"
    },
    {
     "data": {
      "application/vnd.jupyter.widget-view+json": {
       "model_id": "6e42168024b64b7ab0da28ca3cda053e",
       "version_major": 2,
       "version_minor": 0
      },
      "text/plain": [
       "Image(value=b'\\x89PNG\\r\\n\\x1a\\n\\x00\\x00\\x00\\rIHDR\\x00\\x00\\x00\\x04\\x00\\x00\\x00d\\x08\\x00\\x00\\x00\\x00\\x84n\\xce\\xf…"
      ]
     },
     "metadata": {},
     "output_type": "display_data"
    }
   ],
   "source": [
    "#LOAD DATA\n",
    "def transform(episode):\n",
    "    state = T.to_float(episode['state'][...])\n",
    "    state = T.CHW(state)\n",
    "    state = torch.from_numpy(state)\n",
    "    #action = load.remove_redundant_actions(episode['action'], env) does this have an effect?\n",
    "    action = episode['action'][:-1]\n",
    "    action = action.astype(np.uint8)\n",
    "    action = du.onehot(action, size=max(action) + 1) #...\n",
    "    action = torch.from_numpy(action)\n",
    "    return state[:-1], action, state[1:], torch.zeros(action.shape[1]).expand(action.shape)\n",
    "\n",
    "episodes = [transform(e) for e in datasets.load(\"aad.clean\", env, count=1)]\n",
    "\n",
    "state_shape = tuple(episodes[0][0].shape[1:])\n",
    "action_shape = (episodes[0][1].shape[1],)"
   ]
  },
  {
   "cell_type": "code",
   "execution_count": 3,
   "metadata": {},
   "outputs": [
    {
     "name": "stdout",
     "output_type": "stream",
     "text": [
      "(3, 210, 160) (4,)\n",
      "[419380.25]\n",
      "[418058.78125]\n",
      "[413097.22916667]\n",
      "[398566.59375]\n",
      "[339231.6828125]\n"
     ]
    }
   ],
   "source": [
    "print(state_shape, action_shape)\n",
    "\n",
    "model = SANet2(state_shape, action_shape, 2)\n",
    "opt = PairTripletOptimiser(model)\n",
    "\n",
    "for episode in episodes:\n",
    "    for s1,a1,s2,a2 in du.batch_iterator(*episode):\n",
    "        opt((s1,a1),(s2,a2))\n",
    "        print(opt.cma())\n",
    "\n",
    "\n",
    "\n",
    "\n"
   ]
  },
  {
   "cell_type": "code",
   "execution_count": 4,
   "metadata": {},
   "outputs": [
    {
     "name": "stdout",
     "output_type": "stream",
     "text": [
      "(100, 4)\n",
      "torch.Size([100, 4])\n"
     ]
    }
   ],
   "source": [
    "tu.collect(model, (episode[0][0,1])"
   ]
  },
  {
   "cell_type": "code",
   "execution_count": 26,
   "metadata": {},
   "outputs": [
    {
     "name": "stdout",
     "output_type": "stream",
     "text": [
      "[0 2 0 0 1 2 1 1 2 2 0 1 1 2 1 0 0 0 0 0]\n",
      "[[0. 0. 0.]\n",
      " [0. 0. 0.]\n",
      " [0. 0. 0.]\n",
      " [0. 0. 0.]\n",
      " [0. 0. 0.]\n",
      " [0. 0. 0.]\n",
      " [0. 0. 0.]\n",
      " [0. 0. 0.]\n",
      " [0. 0. 0.]\n",
      " [0. 0. 0.]\n",
      " [0. 0. 0.]\n",
      " [0. 0. 0.]\n",
      " [0. 0. 0.]\n",
      " [0. 0. 0.]\n",
      " [0. 0. 0.]\n",
      " [0. 0. 0.]\n",
      " [0. 0. 0.]\n",
      " [0. 0. 0.]\n",
      " [0. 0. 0.]\n",
      " [0. 0. 0.]]\n",
      "[0. 0. 0. 0. 0. 0. 0. 0. 0. 0. 0. 0. 0. 0. 0. 0. 0. 0. 0. 0.]\n",
      "[[1. 0. 0.]\n",
      " [0. 0. 1.]\n",
      " [1. 0. 0.]\n",
      " [1. 0. 0.]\n",
      " [0. 1. 0.]\n",
      " [0. 0. 1.]\n",
      " [0. 1. 0.]\n",
      " [0. 1. 0.]\n",
      " [0. 0. 1.]\n",
      " [0. 0. 1.]\n",
      " [1. 0. 0.]\n",
      " [0. 1. 0.]\n",
      " [0. 1. 0.]\n",
      " [0. 0. 1.]\n",
      " [0. 1. 0.]\n",
      " [1. 0. 0.]\n",
      " [1. 0. 0.]\n",
      " [1. 0. 0.]\n",
      " [1. 0. 0.]\n",
      " [1. 0. 0.]]\n"
     ]
    }
   ],
   "source": [
    "a = np.random.randint(0,3,size=20)\n",
    "print(a)\n",
    "#z = np.random.randint(0,2,size=(a.shape[0], 3))\n",
    "z = np.zeros((a.shape[0], 3))\n",
    "z[np.arange(a.shape[0]),a] = 1\n",
    "\n",
    "\n",
    "\n",
    "\n"
   ]
  },
  {
   "cell_type": "code",
   "execution_count": null,
   "metadata": {},
   "outputs": [],
   "source": []
  },
  {
   "cell_type": "code",
   "execution_count": null,
   "metadata": {},
   "outputs": [],
   "source": []
  },
  {
   "cell_type": "code",
   "execution_count": null,
   "metadata": {},
   "outputs": [],
   "source": []
  },
  {
   "cell_type": "code",
   "execution_count": null,
   "metadata": {},
   "outputs": [],
   "source": []
  }
 ],
 "metadata": {
  "kernelspec": {
   "display_name": "Python 3.8.1 64-bit ('PhD': conda)",
   "language": "python",
   "name": "python38164bitphdconda4a8805f6f8044089a89ef6c6f106aeb7"
  },
  "language_info": {
   "codemirror_mode": {
    "name": "ipython",
    "version": 3
   },
   "file_extension": ".py",
   "mimetype": "text/x-python",
   "name": "python",
   "nbconvert_exporter": "python",
   "pygments_lexer": "ipython3",
   "version": "3.8.1"
  }
 },
 "nbformat": 4,
 "nbformat_minor": 2
}
