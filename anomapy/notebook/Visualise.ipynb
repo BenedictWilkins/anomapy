{
 "cells": [
  {
   "cell_type": "code",
   "execution_count": 1,
   "metadata": {
    "scrolled": true
   },
   "outputs": [
    {
     "name": "stdout",
     "output_type": "stream",
     "text": [
      "USING DEVICE: cuda\n"
     ]
    }
   ],
   "source": [
    "import torch\n",
    "import numpy as np\n",
    "\n",
    "import pyworld.toolkit.tools.torchutils as tu\n",
    "import pyworld.toolkit.tools.visutils as vu\n",
    "import pyworld.toolkit.tools.datautils as du\n",
    "import pyworld.toolkit.tools.visutils.transform as T\n",
    "import pyworld.toolkit.tools.visutils.jupyter as J\n",
    "\n",
    "from pyworld.algorithms.optimise.TripletOptimiser import SASTripletOptimiser\n",
    "from pyworld.toolkit.nn.CNet import CNet2\n",
    "from pyworld.toolkit.nn.MLP import MLP\n",
    "from anomapy import load\n",
    "from anomapy.evaluate import evaluate\n",
    "\n",
    "import datasets\n",
    "\n",
    "import sys\n"
   ]
  },
  {
   "cell_type": "code",
   "execution_count": 2,
   "metadata": {
    "scrolled": true
   },
   "outputs": [
    {
     "name": "stdout",
     "output_type": "stream",
     "text": [
      "-- local data found at /home/ben/Documents/repos/anomapy/runs/sssn-Breakout-2D-VIS, skipping download.\n",
      "-- loading model...\n",
      "-- found config:\n",
      "loading dataset aad.raw.Breakout...\n"
     ]
    },
    {
     "data": {
      "application/vnd.jupyter.widget-view+json": {
       "model_id": "b262a4fafd724e1ea176a574d646f35e",
       "version_major": 2,
       "version_minor": 0
      },
      "text/plain": [
       "IntProgress(value=0, max=1)"
      ]
     },
     "metadata": {},
     "output_type": "display_data"
    }
   ],
   "source": [
    "sys.argv = [\"foo\", \"-run\", \"sssn-Breakout-2D-VIS\"]\n",
    "\n",
    "env = \"Breakout\"\n",
    "dataset_name = \"aad.raw.{0}\".format(env)\n",
    "\n",
    "model, kwargs = evaluate.initialise()\n",
    "\n",
    "def transform(episode):\n",
    "    state = T.to_float(episode['state'][...])\n",
    "    state = T.CHW(state)\n",
    "    state = torch.from_numpy(state)\n",
    "    return state\n",
    "\n",
    "dataset = datasets.dataset(dataset_name)\n",
    "state_shape = tuple(reversed(dataset.meta.state_shape))\n",
    "latent_shape = (2,)\n",
    "\n",
    "states = [transform(e) for e in dataset.load(1)]\n",
    "\n",
    "state = sorted(states, key=lambda x: x.shape[0])[-1]\n",
    "\n",
    "#au = load.anomaly_utils(**kwargs)\n",
    "#a_episode, n_episode = au.to_torch(au.load_both(au.meta()[0]))\n"
   ]
  },
  {
   "cell_type": "code",
   "execution_count": 3,
   "metadata": {
    "scrolled": false
   },
   "outputs": [
    {
     "name": "stdout",
     "output_type": "stream",
     "text": [
      "loading dataset aad.anomaly.Breakout...\n"
     ]
    },
    {
     "data": {
      "application/vnd.jupyter.widget-view+json": {
       "model_id": "93bb13db8f164ae589c290c43fb06204",
       "version_major": 2,
       "version_minor": 0
      },
      "text/plain": [
       "IntProgress(value=0, max=28)"
      ]
     },
     "metadata": {},
     "output_type": "display_data"
    },
    {
     "name": "stdout",
     "output_type": "stream",
     "text": [
      "loading dataset aad.raw.Breakout...\n"
     ]
    },
    {
     "data": {
      "application/vnd.jupyter.widget-view+json": {
       "model_id": "aa0847d0937f44aeae1f28cb811663b8",
       "version_major": 2,
       "version_minor": 0
      },
      "text/plain": [
       "IntProgress(value=0, max=41)"
      ]
     },
     "metadata": {},
     "output_type": "display_data"
    },
    {
     "name": "stdout",
     "output_type": "stream",
     "text": [
      "fill\n"
     ]
    },
    {
     "data": {
      "application/vnd.jupyter.widget-view+json": {
       "model_id": "80c7e668fd9c4d73ba8aaf135256704a",
       "version_major": 2,
       "version_minor": 0
      },
      "text/plain": [
       "HBox(children=(FigureWidget({\n",
       "    'data': [{'line': {'color': '#b9d1fa'},\n",
       "              'marker': {'color': ar…"
      ]
     },
     "metadata": {},
     "output_type": "display_data"
    },
    {
     "name": "stdout",
     "output_type": "stream",
     "text": [
      "block\n"
     ]
    },
    {
     "data": {
      "application/vnd.jupyter.widget-view+json": {
       "model_id": "33707ecc9cf2427fac140592bbd13a03",
       "version_major": 2,
       "version_minor": 0
      },
      "text/plain": [
       "HBox(children=(FigureWidget({\n",
       "    'data': [{'line': {'color': '#b9d1fa'},\n",
       "              'marker': {'color': ar…"
      ]
     },
     "metadata": {},
     "output_type": "display_data"
    },
    {
     "name": "stdout",
     "output_type": "stream",
     "text": [
      "freeze\n"
     ]
    },
    {
     "data": {
      "application/vnd.jupyter.widget-view+json": {
       "model_id": "5398f5359be745d3925d862cef6830fd",
       "version_major": 2,
       "version_minor": 0
      },
      "text/plain": [
       "HBox(children=(FigureWidget({\n",
       "    'data': [{'line': {'color': '#b9d1fa'},\n",
       "              'marker': {'color': ar…"
      ]
     },
     "metadata": {},
     "output_type": "display_data"
    },
    {
     "name": "stdout",
     "output_type": "stream",
     "text": [
      "freeze_skip\n"
     ]
    },
    {
     "data": {
      "application/vnd.jupyter.widget-view+json": {
       "model_id": "adebf39aa5d4432a91e3f9f9a92ea516",
       "version_major": 2,
       "version_minor": 0
      },
      "text/plain": [
       "HBox(children=(FigureWidget({\n",
       "    'data': [{'line': {'color': '#b9d1fa'},\n",
       "              'marker': {'color': ar…"
      ]
     },
     "metadata": {},
     "output_type": "display_data"
    },
    {
     "name": "stdout",
     "output_type": "stream",
     "text": [
      "split_horizontal\n"
     ]
    },
    {
     "data": {
      "application/vnd.jupyter.widget-view+json": {
       "model_id": "a9a3be3dd72a4521af6303c024ee8711",
       "version_major": 2,
       "version_minor": 0
      },
      "text/plain": [
       "HBox(children=(FigureWidget({\n",
       "    'data': [{'line': {'color': '#b9d1fa'},\n",
       "              'marker': {'color': ar…"
      ]
     },
     "metadata": {},
     "output_type": "display_data"
    },
    {
     "name": "stdout",
     "output_type": "stream",
     "text": [
      "split_vertical\n"
     ]
    },
    {
     "data": {
      "application/vnd.jupyter.widget-view+json": {
       "model_id": "ced4281942a440b49e4da21344b018cd",
       "version_major": 2,
       "version_minor": 0
      },
      "text/plain": [
       "HBox(children=(FigureWidget({\n",
       "    'data': [{'line': {'color': '#b9d1fa'},\n",
       "              'marker': {'color': ar…"
      ]
     },
     "metadata": {},
     "output_type": "display_data"
    }
   ],
   "source": [
    "dataset_anomaly = \"aad.anomaly.{0}\".format(env)\n",
    "dataset_raw = \"aad.raw.{0}\".format(env)\n",
    "\n",
    "def transform(episode):\n",
    "    state = T.to_float(episode['state'][...])\n",
    "    state = T.CHW(state)\n",
    "    state = torch.from_numpy(state)\n",
    "    #action = load.remove_redundant_actions(episode['action'], env) does this have an effect?\n",
    "    action = episode['action'][...]\n",
    "    action[-1] = 0\n",
    "    action = action.astype(np.int64)\n",
    "    #action = torch.from_numpy(action)\n",
    "    if 'label' in episode:\n",
    "        return {'state':state, 'action':action, 'label':episode['label'][...]}\n",
    "    return {'state':state, 'action':action}\n",
    "\n",
    "def plot_latent(state, colour=None):\n",
    "    z = tu.to_numpy(tu.collect(model, state))\n",
    "    x,y = z[:,0],z[:,1]\n",
    "    images = vu.transform.HWC(tu.to_numpy(state))\n",
    "    return vu.jupyter.scatter_image(x,y,images,scatter_colour=colour, line_colour='#b9d1fa', scale=1.5)\n",
    "    \n",
    "dataset_a = datasets.dataset(dataset_anomaly)\n",
    "dataset_r = datasets.dataset(dataset_raw)\n",
    "\n",
    "episodes_a = {k.split('.')[0]:v for k,v in dataset_a.load(file_names=True)}\n",
    "episodes_r = {k.split('.')[0]:v for k,v in dataset_r.load(file_names=True)}\n",
    "meta = dataset_a.meta\n",
    "anomalies = [k for k in meta.anomaly]\n",
    "\n",
    "def plot(anom):\n",
    "    print(anom)\n",
    "    episode = transform(episodes_a[meta.anomaly[anom][0]])\n",
    "    colour = None\n",
    "    if 'label' in episode:\n",
    "        colour = np.array(['#636efa','#ef553b'])[episode['label'].astype(np.uint8)]\n",
    "        \n",
    "        \n",
    "    fig, _ = plot_latent(episode['state'], colour=colour)\n",
    "\n",
    "plot('fill')\n",
    "plot('block')\n",
    "plot('freeze')\n",
    "plot('freeze_skip')\n",
    "plot('split_horizontal')\n",
    "plot('split_vertical')\n",
    "\n"
   ]
  },
  {
   "cell_type": "code",
   "execution_count": 7,
   "metadata": {},
   "outputs": [
    {
     "name": "stdout",
     "output_type": "stream",
     "text": [
      "(2867,) (2867,)\n",
      "\n",
      "\n",
      "\n",
      "\n",
      "\n",
      "\n",
      "\n",
      "\n",
      "\n",
      "\n",
      "\n",
      "\n"
     ]
    },
    {
     "data": {
      "application/vnd.jupyter.widget-view+json": {
       "model_id": "3c88f3fc674f4e74b705cb72ee8d91c3",
       "version_major": 2,
       "version_minor": 0
      },
      "text/plain": [
       "HBox(children=(FigureWidget({\n",
       "    'data': [{'mode': 'markers+lines',\n",
       "              'type': 'scattergl',\n",
       "      …"
      ]
     },
     "metadata": {},
     "output_type": "display_data"
    }
   ],
   "source": [
    "z_n = tu.to_numpy(tu.collect(model, state))\n",
    "x = z_n[:,0]\n",
    "y = z_n[:,1]\n",
    "print(x.shape, y.shape)\n",
    "\n",
    "images = vu.transform.HWC(tu.to_numpy(state))\n",
    "print(\"\\n\\n\\n\\n\\n\\n\\n\\n\\n\\n\\n\")\n",
    "\n",
    "vu.jupyter.scatter_image(x,y,images,scale=2)"
   ]
  }
 ],
 "metadata": {
  "kernelspec": {
   "display_name": "Python 3.8.1 64-bit ('PhD': conda)",
   "language": "python",
   "name": "python38164bitphdconda4a8805f6f8044089a89ef6c6f106aeb7"
  },
  "language_info": {
   "codemirror_mode": {
    "name": "ipython",
    "version": 3
   },
   "file_extension": ".py",
   "mimetype": "text/x-python",
   "name": "python",
   "nbconvert_exporter": "python",
   "pygments_lexer": "ipython3",
   "version": "3.8.1"
  }
 },
 "nbformat": 4,
 "nbformat_minor": 4
}
